{
  "nbformat": 4,
  "nbformat_minor": 0,
  "metadata": {
    "colab": {
      "provenance": [],
      "authorship_tag": "ABX9TyOExAhTGndajii9jkNA8QX1",
      "include_colab_link": true
    },
    "kernelspec": {
      "name": "python3",
      "display_name": "Python 3"
    },
    "language_info": {
      "name": "python"
    }
  },
  "cells": [
    {
      "cell_type": "markdown",
      "metadata": {
        "id": "view-in-github",
        "colab_type": "text"
      },
      "source": [
        "<a href=\"https://colab.research.google.com/github/pranjal-tiwarigithub/coding-_ninga/blob/main/array_cn.ipynb\" target=\"_parent\"><img src=\"https://colab.research.google.com/assets/colab-badge.svg\" alt=\"Open In Colab\"/></a>"
      ]
    },
    {
      "cell_type": "markdown",
      "source": [
        "Set Matrix Zeros"
      ],
      "metadata": {
        "id": "UZH83mJcIi0b"
      }
    },
    {
      "cell_type": "code",
      "execution_count": null,
      "metadata": {
        "id": "CjW5LGEBINod"
      },
      "outputs": [],
      "source": [
        "from math import *\n",
        "from collections import *\n",
        "from sys import *\n",
        "from os import *\n",
        "\n",
        "from typing import List\n",
        "\n",
        "def setZeros(matrix: List[List[int]]) -> None:\n",
        "\t# Write your code here.\n",
        "    n=len(matrix)\n",
        "    m=len(matrix[0])\n",
        "    r={}\n",
        "    c={}\n",
        "    for i in range(n):\n",
        "        for j in range(m):\n",
        "            if matrix[i][j]==0:\n",
        "                r[i]=1\n",
        "                c[j]=1\n",
        "    for i in range(n):\n",
        "        for j in range(m):\n",
        "            if i in r or j in c:\n",
        "                matrix[i][j]=0\n",
        "    return matrix \n",
        "\t\t\t\t"
      ]
    }
  ]
}