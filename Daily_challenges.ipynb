{
  "nbformat": 4,
  "nbformat_minor": 0,
  "metadata": {
    "colab": {
      "provenance": [],
      "authorship_tag": "ABX9TyPop67iuVLZ3HnOk2v06Oj8",
      "include_colab_link": true
    },
    "kernelspec": {
      "name": "python3",
      "display_name": "Python 3"
    },
    "language_info": {
      "name": "python"
    }
  },
  "cells": [
    {
      "cell_type": "markdown",
      "metadata": {
        "id": "view-in-github",
        "colab_type": "text"
      },
      "source": [
        "<a href=\"https://colab.research.google.com/github/pranjal-tiwarigithub/coding-_ninga/blob/main/Daily_challenges.ipynb\" target=\"_parent\"><img src=\"https://colab.research.google.com/assets/colab-badge.svg\" alt=\"Open In Colab\"/></a>"
      ]
    },
    {
      "cell_type": "markdown",
      "source": [
        "Interesting Alphabets\n"
      ],
      "metadata": {
        "id": "SY1_NUgkc23X"
      }
    },
    {
      "cell_type": "code",
      "execution_count": null,
      "metadata": {
        "id": "LJNa0aRKcywS"
      },
      "outputs": [],
      "source": [
        "from os import *\n",
        "from sys import *\n",
        "from collections import *\n",
        "from math import *\n",
        "\n",
        "def interestingPattern(n):\n",
        "\n",
        "    # Write your code Here.\n",
        "    # Return a list of strings.\n",
        "\n",
        "    answer = ''\n",
        "    answer_list = []\n",
        "\n",
        "\n",
        "\n",
        "    for i in range(n - 1 , -1 , -1):\n",
        "        answer  = chr(ord('A') + i ) + answer\n",
        "        answer_list.append(answer)\n",
        "\n",
        "\n",
        "    return answer_list\n",
        "\n",
        "\n"
      ]
    },
    {
      "cell_type": "markdown",
      "source": [
        "Avoiding traps\n"
      ],
      "metadata": {
        "id": "8tNNwBySdYIy"
      }
    },
    {
      "cell_type": "code",
      "source": [
        "from os import *\n",
        "from sys import *\n",
        "from collections import *\n",
        "from math import *\n",
        "\n",
        "def avoidTraps(obstacles, n):\n",
        "    # Write your code here.\n",
        "\n",
        "    hit = True\n",
        "    step = 1\n",
        "\n",
        "    while (hit == True):\n",
        "\n",
        "        step = step + 1\n",
        "        hit  = False\n",
        "\n",
        "        for i in range(0,n):\n",
        "            if obstacles[i] % step == 0:\n",
        "                hit = True\n",
        "                break\n",
        "\n",
        "    return step\n",
        "\n",
        "\n",
        "\n",
        "\n",
        "\n",
        "\n",
        "def takeInput():\n",
        "    n = int(input())\n",
        "\n",
        "    obstacles = list(map(int, input().strip().split(\" \")))\n",
        "\n",
        "    return obstacles, n\n",
        "\n",
        "t = int(input())\n",
        "while t:\n",
        "    obstacles, n = takeInput()\n",
        "    print(avoidTraps(obstacles, n))\n",
        "    t = t-1\n"
      ],
      "metadata": {
        "id": "1KGxIg2odWl4"
      },
      "execution_count": null,
      "outputs": []
    }
  ]
}